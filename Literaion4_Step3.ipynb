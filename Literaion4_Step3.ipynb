{
 "cells": [
  {
   "cell_type": "code",
   "execution_count": 1,
   "metadata": {},
   "outputs": [],
   "source": [
    "import findspark\n",
    "findspark.init(\"/home/ubuntu/spark-2.1.1-bin-hadoop2.7\")\n",
    "import pyspark\n",
    "from pyspark.sql import SparkSession\n",
    "spark = SparkSession.builder.appName(\"yye090_722\").getOrCreate()"
   ]
  },
  {
   "cell_type": "code",
   "execution_count": 2,
   "metadata": {},
   "outputs": [],
   "source": [
    "df = spark.read.load(\"./Datasets/PRSA_Data_Aotizhongxin_20130301-20170228.csv\",format =\"csv\",header=\"true\")"
   ]
  },
  {
   "cell_type": "code",
   "execution_count": 3,
   "metadata": {},
   "outputs": [
    {
     "name": "stdout",
     "output_type": "stream",
     "text": [
      "+---+----+-----+---+----+----+----+---+---+---+---+----+------+-----+----+---+----+------------+\n",
      "| No|year|month|day|hour|PM25|PM10|SO2|NO2| CO| O3|TEMP|  PRES| DEWP|RAIN| wd|WSPM|     station|\n",
      "+---+----+-----+---+----+----+----+---+---+---+---+----+------+-----+----+---+----+------------+\n",
      "|  1|2013|    3|  1|   0|   4|   4|  4|  7|300| 77|-0.7|  1023|-18.8|   0|NNW| 4.4|Aotizhongxin|\n",
      "|  2|2013|    3|  1|   1|   8|   8|  4|  7|300| 77|-1.1|1023.2|-18.2|   0|  N| 4.7|Aotizhongxin|\n",
      "|  3|2013|    3|  1|   2|   7|   7|  5| 10|300| 73|-1.1|1023.5|-18.2|   0|NNW| 5.6|Aotizhongxin|\n",
      "|  4|2013|    3|  1|   3|   6|   6| 11| 11|300| 72|-1.4|1024.5|-19.4|   0| NW| 3.1|Aotizhongxin|\n",
      "|  5|2013|    3|  1|   4|   3|   3| 12| 12|300| 72|  -2|1025.2|-19.5|   0|  N|   2|Aotizhongxin|\n",
      "|  6|2013|    3|  1|   5|   5|   5| 18| 18|400| 66|-2.2|1025.6|-19.6|   0|  N| 3.7|Aotizhongxin|\n",
      "|  7|2013|    3|  1|   6|   3|   3| 18| 32|500| 50|-2.6|1026.5|-19.1|   0|NNE| 2.5|Aotizhongxin|\n",
      "|  8|2013|    3|  1|   7|   3|   6| 19| 41|500| 43|-1.6|1027.4|-19.1|   0|NNW| 3.8|Aotizhongxin|\n",
      "|  9|2013|    3|  1|   8|   3|   6| 16| 43|500| 45| 0.1|1028.3|-19.2|   0|NNW| 4.1|Aotizhongxin|\n",
      "| 10|2013|    3|  1|   9|   3|   8| 12| 28|400| 59| 1.2|1028.5|-19.3|   0|  N| 2.6|Aotizhongxin|\n",
      "| 11|2013|    3|  1|  10|   3|   6|  9| 12|400| 72| 1.9|1028.2|-19.4|   0|NNW| 3.6|Aotizhongxin|\n",
      "| 12|2013|    3|  1|  11|   3|   6|  9| 14|400| 71| 2.9|1028.2|-20.5|   0|  N| 3.7|Aotizhongxin|\n",
      "| 13|2013|    3|  1|  12|   3|   6|  7| 13|300| 74| 3.9|1027.3|-19.7|   0|NNW| 5.1|Aotizhongxin|\n",
      "| 14|2013|    3|  1|  13|   3|   6|  7| 12|400| 76| 5.3|1026.2|-19.3|   0| NW| 4.3|Aotizhongxin|\n",
      "| 15|2013|    3|  1|  14|   6|   9|  7| 11|400| 77|   6|1025.9|-19.6|   0| NW| 4.4|Aotizhongxin|\n",
      "| 16|2013|    3|  1|  15|   8|  15|  7| 14|400| 76| 6.2|1025.7|-18.6|   0|NNE| 2.8|Aotizhongxin|\n",
      "| 17|2013|    3|  1|  16|   9|  19|  9| 13|400| 76| 5.9|1025.6|-18.1|   0|NNW| 3.9|Aotizhongxin|\n",
      "| 18|2013|    3|  1|  17|  10|  23| 11| 15|400| 74| 4.3|1026.3|-18.7|   0|NNE| 2.8|Aotizhongxin|\n",
      "| 19|2013|    3|  1|  18|  11|  20|  8| 20|500| 70| 3.1|1027.4|-18.4|   0|NNE| 2.1|Aotizhongxin|\n",
      "| 20|2013|    3|  1|  19|   8|  14| 12| 30|500| 60| 2.3|1028.3|-18.4|   0|  N| 2.8|Aotizhongxin|\n",
      "+---+----+-----+---+----+----+----+---+---+---+---+----+------+-----+----+---+----+------------+\n",
      "only showing top 20 rows\n",
      "\n"
     ]
    }
   ],
   "source": [
    "df = df.withColumnRenamed(\"PM2.5\",\"PM25\")\n",
    "df.show()\n"
   ]
  },
  {
   "cell_type": "code",
   "execution_count": 4,
   "metadata": {},
   "outputs": [
    {
     "name": "stdout",
     "output_type": "stream",
     "text": [
      "+----+-----+---+----+----+---+---+---+---+----+---+----+------------+\n",
      "|year|month|day|hour|PM25|SO2|NO2| CO| O3|TEMP| wd|WSPM|     station|\n",
      "+----+-----+---+----+----+---+---+---+---+----+---+----+------------+\n",
      "|2013|    3|  1|   0|   4|  4|  7|300| 77|-0.7|NNW| 4.4|Aotizhongxin|\n",
      "|2013|    3|  1|   1|   8|  4|  7|300| 77|-1.1|  N| 4.7|Aotizhongxin|\n",
      "|2013|    3|  1|   2|   7|  5| 10|300| 73|-1.1|NNW| 5.6|Aotizhongxin|\n",
      "|2013|    3|  1|   3|   6| 11| 11|300| 72|-1.4| NW| 3.1|Aotizhongxin|\n",
      "|2013|    3|  1|   4|   3| 12| 12|300| 72|  -2|  N|   2|Aotizhongxin|\n",
      "|2013|    3|  1|   5|   5| 18| 18|400| 66|-2.2|  N| 3.7|Aotizhongxin|\n",
      "|2013|    3|  1|   6|   3| 18| 32|500| 50|-2.6|NNE| 2.5|Aotizhongxin|\n",
      "|2013|    3|  1|   7|   3| 19| 41|500| 43|-1.6|NNW| 3.8|Aotizhongxin|\n",
      "|2013|    3|  1|   8|   3| 16| 43|500| 45| 0.1|NNW| 4.1|Aotizhongxin|\n",
      "|2013|    3|  1|   9|   3| 12| 28|400| 59| 1.2|  N| 2.6|Aotizhongxin|\n",
      "|2013|    3|  1|  10|   3|  9| 12|400| 72| 1.9|NNW| 3.6|Aotizhongxin|\n",
      "|2013|    3|  1|  11|   3|  9| 14|400| 71| 2.9|  N| 3.7|Aotizhongxin|\n",
      "|2013|    3|  1|  12|   3|  7| 13|300| 74| 3.9|NNW| 5.1|Aotizhongxin|\n",
      "|2013|    3|  1|  13|   3|  7| 12|400| 76| 5.3| NW| 4.3|Aotizhongxin|\n",
      "|2013|    3|  1|  14|   6|  7| 11|400| 77|   6| NW| 4.4|Aotizhongxin|\n",
      "|2013|    3|  1|  15|   8|  7| 14|400| 76| 6.2|NNE| 2.8|Aotizhongxin|\n",
      "|2013|    3|  1|  16|   9|  9| 13|400| 76| 5.9|NNW| 3.9|Aotizhongxin|\n",
      "|2013|    3|  1|  17|  10| 11| 15|400| 74| 4.3|NNE| 2.8|Aotizhongxin|\n",
      "|2013|    3|  1|  18|  11|  8| 20|500| 70| 3.1|NNE| 2.1|Aotizhongxin|\n",
      "|2013|    3|  1|  19|   8| 12| 30|500| 60| 2.3|  N| 2.8|Aotizhongxin|\n",
      "+----+-----+---+----+----+---+---+---+---+----+---+----+------------+\n",
      "only showing top 20 rows\n",
      "\n"
     ]
    }
   ],
   "source": [
    "df = df.drop(*[\"No\",\"PM10\",\"PRES\",\"DEWP\",\"RAIN\"])\n",
    "df.show()\n"
   ]
  },
  {
   "cell_type": "code",
   "execution_count": 5,
   "metadata": {},
   "outputs": [
    {
     "name": "stdout",
     "output_type": "stream",
     "text": [
      "+----+-----+---+----+----+---+--------+----+--------+----+---+----+------------+\n",
      "|year|month|day|hour|PM25|SO2|     NO2|  CO|      O3|TEMP| wd|WSPM|     station|\n",
      "+----+-----+---+----+----+---+--------+----+--------+----+---+----+------------+\n",
      "|2013|    3|  4|   2|  34| NA|      14| 300|      68| 8.1|  N| 4.3|Aotizhongxin|\n",
      "|2013|    3|  8|   2| 339| NA|     162|3899|      84| 2.5| SW| 0.8|Aotizhongxin|\n",
      "|2013|    3| 27|   3| 129| NA|      54|  NA|      NA| 4.3|  W| 0.8|Aotizhongxin|\n",
      "|2013|    3| 27|   4| 135| NA|      54| 900|       2| 2.9|  W| 0.9|Aotizhongxin|\n",
      "|2013|    3| 27|   5| 135| NA|      64|1000|       2| 2.8|SSW| 0.5|Aotizhongxin|\n",
      "|2013|    3| 27|   6| 138| NA|      63|1000|       2| 4.2| NE| 1.4|Aotizhongxin|\n",
      "|2013|    3| 27|   7| 186| NA|      66|1700|       2| 5.3|NNE| 1.6|Aotizhongxin|\n",
      "|2013|    3| 27|   8| 221| NA|      65|2399|       2| 7.6| NE|   2|Aotizhongxin|\n",
      "|2013|    3| 27|   9| 159| NA|      61|1500|       2|10.6|ENE| 3.3|Aotizhongxin|\n",
      "|2013|    4| 26|  11|  79| NA|     140|  NA|       2|20.9|  E| 1.7|Aotizhongxin|\n",
      "|2013|    4| 27|   2|  56| NA|      97| 800|      26|12.1| NE| 0.8|Aotizhongxin|\n",
      "|2013|    5|  2|  21|  NA| 63|      93|1200|      38|18.5| SE| 2.8|Aotizhongxin|\n",
      "|2013|    5| 16|  13|  NA| 46|      35| 600|     166|26.1| SW| 2.7|Aotizhongxin|\n",
      "|2013|    6|  7|  16|  NA| 12|      74|2500|       8|20.7|NNE| 0.8|Aotizhongxin|\n",
      "|2013|    6| 19|  18|   3| NA|      NA|  NA|      NA|31.7| SW|   2|Aotizhongxin|\n",
      "|2013|    6| 19|  19|  37| NA|       5| 200|      NA|29.6| SW| 1.3|Aotizhongxin|\n",
      "|2013|    6| 19|  20|  37| NA|       5|  NA|233.6922|26.9| SW| 0.9|Aotizhongxin|\n",
      "|2013|    6| 19|  21|  43| NA| 98.1334|  NA|171.5742|28.2| SW|   1|Aotizhongxin|\n",
      "|2013|    6| 19|  22|  53| NA|100.1864|  NA| 125.307|25.9|WSW|   0|Aotizhongxin|\n",
      "|2013|    6| 19|  23|  60| NA|159.7234|  NA| 45.8388|25.3|  N|   0|Aotizhongxin|\n",
      "+----+-----+---+----+----+---+--------+----+--------+----+---+----+------------+\n",
      "only showing top 20 rows\n",
      "\n"
     ]
    }
   ],
   "source": [
    "df.filter((df.PM25 == \"NA\")| (df.SO2== \"NA\")).show()"
   ]
  },
  {
   "cell_type": "code",
   "execution_count": 6,
   "metadata": {},
   "outputs": [
    {
     "data": {
      "text/plain": [
       "31823"
      ]
     },
     "execution_count": 6,
     "metadata": {},
     "output_type": "execute_result"
    }
   ],
   "source": [
    "df = df.filter((df.PM25 != 'NA') & (df.SO2 != 'NA') & \\\n",
    "               (df.NO2 != 'NA') & (df.CO != 'NA') &(df.O3 != 'NA') &\\\n",
    "               (df.TEMP != 'NA') &(df.wd != 'NA') &(df.WSPM != 'NA'))\n",
    "df.count()"
   ]
  },
  {
   "cell_type": "code",
   "execution_count": 7,
   "metadata": {},
   "outputs": [
    {
     "name": "stdout",
     "output_type": "stream",
     "text": [
      "+----+-----+---+----+----+---+---+---+---+----+---+----+-------+\n",
      "|year|month|day|hour|PM25|SO2|NO2| CO| O3|TEMP| wd|WSPM|station|\n",
      "+----+-----+---+----+----+---+---+---+---+----+---+----+-------+\n",
      "+----+-----+---+----+----+---+---+---+---+----+---+----+-------+\n",
      "\n"
     ]
    }
   ],
   "source": [
    "df.filter((df.PM25 == \"NA\")| (df.SO2== \"NA\")).show()"
   ]
  },
  {
   "cell_type": "code",
   "execution_count": 8,
   "metadata": {},
   "outputs": [
    {
     "name": "stdout",
     "output_type": "stream",
     "text": [
      "root\n",
      " |-- year: string (nullable = true)\n",
      " |-- month: string (nullable = true)\n",
      " |-- day: string (nullable = true)\n",
      " |-- hour: string (nullable = true)\n",
      " |-- PM25: string (nullable = true)\n",
      " |-- SO2: string (nullable = true)\n",
      " |-- NO2: string (nullable = true)\n",
      " |-- CO: string (nullable = true)\n",
      " |-- O3: string (nullable = true)\n",
      " |-- TEMP: string (nullable = true)\n",
      " |-- wd: string (nullable = true)\n",
      " |-- WSPM: string (nullable = true)\n",
      " |-- station: string (nullable = true)\n",
      "\n"
     ]
    }
   ],
   "source": [
    "from pyspark.sql import *\n",
    "df.printSchema()"
   ]
  },
  {
   "cell_type": "code",
   "execution_count": 9,
   "metadata": {},
   "outputs": [
    {
     "name": "stdout",
     "output_type": "stream",
     "text": [
      "root\n",
      " |-- year: integer (nullable = true)\n",
      " |-- month: integer (nullable = true)\n",
      " |-- day: integer (nullable = true)\n",
      " |-- hour: integer (nullable = true)\n",
      " |-- PM25: float (nullable = true)\n",
      " |-- SO2: float (nullable = true)\n",
      " |-- NO2: float (nullable = true)\n",
      " |-- CO: float (nullable = true)\n",
      " |-- O3: float (nullable = true)\n",
      " |-- TEMP: float (nullable = true)\n",
      " |-- wd: string (nullable = true)\n",
      " |-- WSPM: float (nullable = true)\n",
      " |-- station: string (nullable = true)\n",
      "\n"
     ]
    }
   ],
   "source": [
    "from pyspark.sql import *\n",
    "changedTypedf = df.withColumn(\"year\", df[\"year\"].cast(\"integer\")).withColumn(\"month\", df[\"month\"].cast(\"integer\"))\\\n",
    ".withColumn(\"hour\", df[\"hour\"].cast(\"integer\"))\\\n",
    ".withColumn(\"day\", df[\"day\"].cast(\"integer\"))\\\n",
    ".withColumn(\"PM25\", df[\"PM25\"].cast(\"float\"))\\\n",
    ".withColumn(\"SO2\", df[\"SO2\"].cast(\"float\"))\\\n",
    ".withColumn(\"NO2\", df[\"NO2\"].cast(\"float\"))\\\n",
    ".withColumn(\"CO\", df[\"CO\"].cast(\"float\"))\\\n",
    ".withColumn(\"O3\", df[\"O3\"].cast(\"float\"))\\\n",
    ".withColumn(\"TEMP\", df[\"TEMP\"].cast(\"float\"))\\\n",
    ".withColumn(\"WSPM\", df[\"WSPM\"].cast(\"float\"))\n",
    "changedTypedf.printSchema()\n"
   ]
  },
  {
   "cell_type": "code",
   "execution_count": null,
   "metadata": {},
   "outputs": [],
   "source": [
    "import numpy as np\n",
    "import matplotlib.pyplot as plt\n",
    "plt.scatter(df.PM25,df.month)"
   ]
  },
  {
   "cell_type": "code",
   "execution_count": null,
   "metadata": {},
   "outputs": [],
   "source": [
    "cols = [\"PM25\",\"SO2\",\"NO2\",\"CO\",\"O3\",\"TEMP\"]\n",
    "bounds ={}\n",
    "for col in cols:\n",
    "    quantiles = changedTypedf.approxQuantile(col,[0.25,0.75],0)\n",
    "    IQR = quantiles[1] - quantiles[0]\n",
    "    bounds[col] = [quantiles[0] - 1.5*IQR,quantiles[1] +1.5*IQR]\n",
    "bounds"
   ]
  },
  {
   "cell_type": "code",
   "execution_count": null,
   "metadata": {},
   "outputs": [],
   "source": [
    "outliers =  changedTypedf.select(*[\"year\",'month','day','hour',\"WSPM\",\"wd\"]+[\n",
    "    (\n",
    "            (changedTypedf[c]<bounds[c][0])|\n",
    "            (changedTypedf[c]>bounds[c][1])\n",
    "    ).alias(c + \"_outliers\") for c in cols\n",
    "    ])\n",
    "outliers.show()"
   ]
  },
  {
   "cell_type": "code",
   "execution_count": null,
   "metadata": {},
   "outputs": [],
   "source": [
    "new_df1 = changedTypedf.join(outliers,on=[\"year\",\"hour\",\"day\",\"month\",\"WSPM\",\"wd\"])\n",
    "new_df1 = new_df1.filter((new_df1.PM25_outliers == False) & (new_df1.SO2_outliers == False) & (new_df1.SO2_outliers == False) &\\\n",
    "                       (new_df1.NO2_outliers == False) &(new_df1.CO_outliers == False) &\\\n",
    "                       (new_df1.O3_outliers == False) &(new_df1.TEMP_outliers == False))\n",
    "new_df1= new_df1.drop(*['PM25_outliers',\\\n",
    " 'SO2_outliers','NO2_outliers','CO_outliers',\\\n",
    " 'O3_outliers','TEMP_outliers',\"WSPM\",\"wd\"])\\\n",
    "new_df1.show()\n",
    "new_df1.count()\n"
   ]
  },
  {
   "cell_type": "code",
   "execution_count": null,
   "metadata": {},
   "outputs": [],
   "source": [
    "changedTypedf.count()"
   ]
  },
  {
   "cell_type": "code",
   "execution_count": null,
   "metadata": {},
   "outputs": [],
   "source": [
    "from pyspark.sql import functions as F\n",
    "df2 = new_df1.withColumn(\"Season\",\\\n",
    "    F.when(F.col(\"month\").between(3,5),\"Spring\")\\\n",
    "    .when(F.col(\"month\").between(6,8),\"Summer\")\\\n",
    "    .when(F.col(\"month\").between(9,11),\"Autumn\")\\\n",
    "    .otherwise(\"Winter\")\\\n",
    ")\n",
    "df2 = df2.withColumn(\"PM_Rating\",\\\n",
    "    F.when(F.col(\"PM25\").between(0,12),\"Excellent\")\\\n",
    "    .when(F.col(\"PM25\").between(12,35.4),\"Moderate\")\\\n",
    "    .when(F.col(\"PM25\").between(35.4,55.4),\"Unhealthy for Sensitive Groups\")\\\n",
    "    .when(F.col(\"PM25\").between(55.4,150.4),\"Unhealthy\")\\\n",
    "    .when(F.col(\"PM25\").between(150.4,250.4),\"Very Unhealthy\")\\\n",
    "    .when(F.col(\"PM25\").between(250.4,500.4),\"Hazardous\")\\\n",
    "    .otherwise(\"Severe\")\\\n",
    ")\n",
    "df2.show()\n"
   ]
  }
 ],
 "metadata": {
  "kernelspec": {
   "display_name": "Python 3",
   "language": "python",
   "name": "python3"
  },
  "language_info": {
   "codemirror_mode": {
    "name": "ipython",
    "version": 3
   },
   "file_extension": ".py",
   "mimetype": "text/x-python",
   "name": "python",
   "nbconvert_exporter": "python",
   "pygments_lexer": "ipython3",
   "version": "3.5.2"
  }
 },
 "nbformat": 4,
 "nbformat_minor": 2
}
