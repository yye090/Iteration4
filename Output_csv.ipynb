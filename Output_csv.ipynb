{
 "cells": [
  {
   "cell_type": "code",
   "execution_count": null,
   "metadata": {},
   "outputs": [],
   "source": [
    "import findspark\n",
    "findspark.init(\"/home/ubuntu/spark-2.1.1-bin-hadoop2.7\")\n",
    "import pyspark\n",
    "from pyspark.sql import SparkSession\n",
    "spark = SparkSession.builder.appName(\"yye090_722\").getOrCreate()\n"
   ]
  },
  {
   "cell_type": "code",
   "execution_count": null,
   "metadata": {},
   "outputs": [],
   "source": [
    "df = spark.read.load(\"./Datasets/*csv\",format =\"csv\",header=\"true\")\n",
    "\n"
   ]
  },
  {
   "cell_type": "code",
   "execution_count": null,
   "metadata": {},
   "outputs": [],
   "source": [
    "df = df.withColumnRenamed(\"PM2.5\",\"PM25\")\n",
    "df = df.drop(*[\"No\",\"PM10\",\"PRES\",\"DEWP\",\"RAIN\"])\n",
    "df = df.na.drop()\n",
    "df = df.filter((df.PM25 != 'NA') & (df.SO2 != 'NA') & (df.NO2 != 'NA') &\\\n",
    "               (df.CO != 'NA') &(df.O3 != 'NA') &(df.TEMP != 'NA') &(df.wd != 'NA') &(df.WSPM != 'NA'))\n"
   ]
  },
  {
   "cell_type": "code",
   "execution_count": null,
   "metadata": {},
   "outputs": [],
   "source": [
    "df = df.na.drop()\n",
    "df = df.filter((df.PM25 != 'NA') & (df.SO2 != 'NA') & (df.NO2 != 'NA') &\\\n",
    "               (df.CO != 'NA') &(df.O3 != 'NA') &(df.TEMP != 'NA') &(df.wd != 'NA') &(df.WSPM != 'NA'))\n"
   ]
  },
  {
   "cell_type": "code",
   "execution_count": null,
   "metadata": {},
   "outputs": [],
   "source": [
    "from pyspark.sql import *\n",
    "df.printSchema()\n",
    "changedTypedf = df.withColumn(\"year\", df[\"year\"].cast(\"integer\")).withColumn(\"month\", df[\"month\"].cast(\"integer\"))\\\n",
    ".withColumn(\"hour\", df[\"hour\"].cast(\"integer\"))\\\n",
    ".withColumn(\"day\", df[\"day\"].cast(\"integer\"))\\\n",
    ".withColumn(\"PM25\", df[\"PM25\"].cast(\"float\"))\\\n",
    ".withColumn(\"SO2\", df[\"SO2\"].cast(\"float\"))\\\n",
    ".withColumn(\"NO2\", df[\"NO2\"].cast(\"float\"))\\\n",
    ".withColumn(\"CO\", df[\"CO\"].cast(\"float\"))\\\n",
    ".withColumn(\"O3\", df[\"O3\"].cast(\"float\"))\\\n",
    ".withColumn(\"TEMP\", df[\"TEMP\"].cast(\"float\"))\\\n",
    ".withColumn(\"WSPM\", df[\"WSPM\"].cast(\"float\"))\n",
    "changedTypedf.printSchema()\n"
   ]
  },
  {
   "cell_type": "code",
   "execution_count": null,
   "metadata": {},
   "outputs": [],
   "source": [
    "cols = [\"PM25\",\"SO2\",\"NO2\",\"CO\",\"O3\",\"TEMP\"]\n",
    "bounds ={}\n",
    "for col in cols:\n",
    "    quantiles = changedTypedf.approxQuantile(col,[0.25,0.75],0)\n",
    "    IQR = quantiles[1] - quantiles[0]\n",
    "    bounds[col] = [quantiles[0] - 1.5*IQR,quantiles[1] +1.5*IQR]\n",
    "\n"
   ]
  },
  {
   "cell_type": "code",
   "execution_count": null,
   "metadata": {},
   "outputs": [],
   "source": [
    "outliers =  changedTypedf.select(*[\"year\",'month','day','hour',\"WSPM\",\"wd\",\"station\"]+[\n",
    "    (\n",
    "            (changedTypedf[c]<bounds[c][0])|\n",
    "            (changedTypedf[c]>bounds[c][1])\n",
    "    ).alias(c + \"_outliers\") for c in cols\n",
    "    ])"
   ]
  },
  {
   "cell_type": "code",
   "execution_count": null,
   "metadata": {},
   "outputs": [],
   "source": [
    "new_df1 = changedTypedf.join(outliers,on=[\"year\",\"month\",\"day\",\"hour\",\"WSPM\",\"wd\",\"station\"])\n",
    "new_df1 = new_df1.filter((new_df1.PM25_outliers == False) & (new_df1.SO2_outliers == False) & (new_df1.SO2_outliers == False) &\\\n",
    "                       (new_df1.NO2_outliers == False) &\\\n",
    "                       (new_df1.CO_outliers == False) &\\\n",
    "                       (new_df1.O3_outliers == False) &\\\n",
    "                       (new_df1.TEMP_outliers == False))\n",
    "new_df1= new_df1.drop(*[\"WPSM\",'wd','PM25_outliers',\\\n",
    " 'SO2_outliers',\\\n",
    " 'NO2_outliers',\\\n",
    " 'CO_outliers',\\\n",
    " 'O3_outliers',\\\n",
    " 'TEMP_outliers'])\n"
   ]
  },
  {
   "cell_type": "code",
   "execution_count": null,
   "metadata": {
    "scrolled": false
   },
   "outputs": [],
   "source": [
    "from pyspark.sql import functions as F\n",
    "df2 = new_df1.withColumn(\"Season\",\\\n",
    "    F.when(F.col(\"month\").between(3,5),\"Spring\")\\\n",
    "    .when(F.col(\"month\").between(6,8),\"Summer\")\\\n",
    "    .when(F.col(\"month\").between(9,11),\"Autumn\")\\\n",
    "    .otherwise(\"Winter\")\\\n",
    ")\n",
    "df2 = df2.withColumn(\"PM_Rating\",\\\n",
    "    F.when(F.col(\"PM25\").between(0,12),\"Excellent\")\\\n",
    "    .when(F.col(\"PM25\").between(12,35.4),\"Moderate\")\\\n",
    "    .when(F.col(\"PM25\").between(35.4,55.4),\"Unhealthy for Sensitive Groups\")\\\n",
    "    .when(F.col(\"PM25\").between(55.4,150.4),\"Unhealthy\")\\\n",
    "    .when(F.col(\"PM25\").between(150.4,250.4),\"Very Unhealthy\")\\\n",
    "    .when(F.col(\"PM25\").between(250.4,500.4),\"Hazardous\")\\\n",
    "    .otherwise(\"Severe\")\\\n",
    ")\n",
    "df2.show()"
   ]
  },
  {
   "cell_type": "code",
   "execution_count": null,
   "metadata": {},
   "outputs": [],
   "source": [
    "df2 = df2.filter((df2.year != 2016))\n",
    "df2 = df2.filter((df2.year != 2017))"
   ]
  },
  {
   "cell_type": "code",
   "execution_count": null,
   "metadata": {},
   "outputs": [],
   "source": [
    "df2.printSchema()"
   ]
  },
  {
   "cell_type": "code",
   "execution_count": null,
   "metadata": {},
   "outputs": [],
   "source": [
    "df2.write.csv(\"./final1.csv\",header=\"true\")"
   ]
  }
 ],
 "metadata": {
  "kernelspec": {
   "display_name": "Python 3",
   "language": "python",
   "name": "python3"
  },
  "language_info": {
   "codemirror_mode": {
    "name": "ipython",
    "version": 3
   },
   "file_extension": ".py",
   "mimetype": "text/x-python",
   "name": "python",
   "nbconvert_exporter": "python",
   "pygments_lexer": "ipython3",
   "version": "3.5.2"
  }
 },
 "nbformat": 4,
 "nbformat_minor": 2
}
